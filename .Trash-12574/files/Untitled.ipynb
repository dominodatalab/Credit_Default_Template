{
 "cells": [
  {
   "cell_type": "code",
   "execution_count": 3,
   "id": "bdc55156-f75b-4d9d-b469-eb9bc1a80b2a",
   "metadata": {},
   "outputs": [],
   "source": [
    "from domino.data_sources import DataSourceClient\n",
    "\n",
    "# instantiate a client and fetch the datasource instance\n",
    "object_store = DataSourceClient().get_datasource(\"winequality\")\n",
    "\n",
    "# list objects available in the datasource\n",
    "objects = object_store.list_objects()\n",
    "\n",
    "## get content as binary\n",
    "# content = object_store.get(\"key\")\n",
    "\n",
    "## download content to file\n",
    "# object_store.download_file(\"key\", \"./path/to/local/file\")\n",
    "\n",
    "## Download content to file object\n",
    "# f = io.BytesIO()\n",
    "# object_store.download_fileobj(\"key\", f)"
   ]
  },
  {
   "cell_type": "code",
   "execution_count": 2,
   "id": "e3af4a27-d66d-4f07-9db5-76eea85a6678",
   "metadata": {},
   "outputs": [
    {
     "ename": "NameError",
     "evalue": "name 'df' is not defined",
     "output_type": "error",
     "traceback": [
      "\u001b[0;31m---------------------------------------------------------------------------\u001b[0m",
      "\u001b[0;31mNameError\u001b[0m                                 Traceback (most recent call last)",
      "Cell \u001b[0;32mIn[2], line 1\u001b[0m\n\u001b[0;32m----> 1\u001b[0m \u001b[43mdf\u001b[49m\n",
      "\u001b[0;31mNameError\u001b[0m: name 'df' is not defined"
     ]
    }
   ],
   "source": [
    "df"
   ]
  },
  {
   "cell_type": "code",
   "execution_count": null,
   "id": "1930f091-c59a-4cb7-aa4f-3faf8754d926",
   "metadata": {},
   "outputs": [],
   "source": []
  }
 ],
 "metadata": {
  "kernelspec": {
   "display_name": "Python 3 (ipykernel)",
   "language": "python",
   "name": "python3"
  },
  "language_info": {
   "codemirror_mode": {
    "name": "ipython",
    "version": 3
   },
   "file_extension": ".py",
   "mimetype": "text/x-python",
   "name": "python",
   "nbconvert_exporter": "python",
   "pygments_lexer": "ipython3",
   "version": "3.10.14"
  }
 },
 "nbformat": 4,
 "nbformat_minor": 5
}
